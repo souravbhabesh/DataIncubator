{
 "cells": [
  {
   "cell_type": "code",
   "execution_count": 2,
   "metadata": {
    "collapsed": true
   },
   "outputs": [],
   "source": [
    "import pandas as pd\n",
    "import numpy as np\n",
    "from scipy import stats\n",
    "import matplotlib\n",
    "import matplotlib.pyplot as plt\n",
    "import seaborn as sns"
   ]
  },
  {
   "cell_type": "code",
   "execution_count": 3,
   "metadata": {
    "collapsed": true
   },
   "outputs": [],
   "source": [
    "#Download data from \n",
    "# Section - Daily Summary Data  Criteria Gases\n",
    "# 2017 Ozone(44201) data\n",
    "df = pd.read_csv('daily_44201_2017.csv',low_memory=False, sep=',')"
   ]
  },
  {
   "cell_type": "code",
   "execution_count": 4,
   "metadata": {
    "collapsed": true
   },
   "outputs": [],
   "source": [
    "df.columns = [c.replace(' ', '_') for c in df.columns]"
   ]
  },
  {
   "cell_type": "code",
   "execution_count": 5,
   "metadata": {
    "collapsed": true
   },
   "outputs": [],
   "source": [
    "aqi = pd.read_csv('annual_aqi_by_county_2017.csv',low_memory=False, sep=',')"
   ]
  },
  {
   "cell_type": "code",
   "execution_count": 8,
   "metadata": {
    "collapsed": true
   },
   "outputs": [],
   "source": [
    "#df.head()"
   ]
  },
  {
   "cell_type": "code",
   "execution_count": 9,
   "metadata": {
    "collapsed": true
   },
   "outputs": [],
   "source": [
    "#df.dtypes"
   ]
  },
  {
   "cell_type": "code",
   "execution_count": 10,
   "metadata": {
    "collapsed": true
   },
   "outputs": [],
   "source": [
    "#df.describe()"
   ]
  },
  {
   "cell_type": "code",
   "execution_count": 11,
   "metadata": {
    "collapsed": true
   },
   "outputs": [],
   "source": [
    "#df['State_Name'].unique()"
   ]
  },
  {
   "cell_type": "code",
   "execution_count": 12,
   "metadata": {
    "collapsed": true
   },
   "outputs": [],
   "source": [
    "#df['AQI'].head()"
   ]
  },
  {
   "cell_type": "code",
   "execution_count": 13,
   "metadata": {
    "collapsed": true
   },
   "outputs": [],
   "source": [
    "#df['Event_Type'].unique()"
   ]
  },
  {
   "cell_type": "code",
   "execution_count": 14,
   "metadata": {
    "collapsed": true
   },
   "outputs": [],
   "source": [
    "#df['State_Name'].unique()"
   ]
  },
  {
   "cell_type": "code",
   "execution_count": 16,
   "metadata": {
    "collapsed": true
   },
   "outputs": [],
   "source": [
    "#df[df['State_Name'].str.contains('New York',na=False)].count()"
   ]
  },
  {
   "cell_type": "code",
   "execution_count": 17,
   "metadata": {
    "collapsed": true
   },
   "outputs": [],
   "source": [
    "#df.AQI.isnull().any()"
   ]
  },
  {
   "cell_type": "code",
   "execution_count": 18,
   "metadata": {
    "collapsed": true
   },
   "outputs": [],
   "source": [
    "#df.shape"
   ]
  },
  {
   "cell_type": "code",
   "execution_count": 6,
   "metadata": {
    "collapsed": true
   },
   "outputs": [],
   "source": [
    "df1 = df.loc[df.groupby(['County_Name','Date_Local'])['AQI'].idxmax()]"
   ]
  },
  {
   "cell_type": "code",
   "execution_count": 7,
   "metadata": {},
   "outputs": [
    {
     "data": {
      "text/plain": [
       "(129233, 29)"
      ]
     },
     "execution_count": 7,
     "metadata": {},
     "output_type": "execute_result"
    }
   ],
   "source": [
    "df1.shape"
   ]
  },
  {
   "cell_type": "code",
   "execution_count": 8,
   "metadata": {
    "collapsed": true
   },
   "outputs": [],
   "source": [
    "#vehicle year group by stop year, convert object to int, replace NON- and UNK with 0\n",
    "def AQI_CRIT (row):\n",
    "    if row['AQI'] > 50:\n",
    "        return 1\n",
    "    return 0\n",
    "\n",
    "df1['AQI_critical'] = df1.apply (lambda row: AQI_CRIT (row),axis=1)"
   ]
  },
  {
   "cell_type": "code",
   "execution_count": 22,
   "metadata": {
    "collapsed": true
   },
   "outputs": [],
   "source": [
    "#df1.head()"
   ]
  },
  {
   "cell_type": "code",
   "execution_count": 9,
   "metadata": {
    "collapsed": true
   },
   "outputs": [],
   "source": [
    "ny = df1[df1['State_Name'].str.contains('New York',na=False)]"
   ]
  },
  {
   "cell_type": "code",
   "execution_count": 24,
   "metadata": {
    "collapsed": true
   },
   "outputs": [],
   "source": [
    "#ny.head()"
   ]
  },
  {
   "cell_type": "code",
   "execution_count": 10,
   "metadata": {},
   "outputs": [
    {
     "data": {
      "text/plain": [
       "County_Name\n",
       "Albany         18\n",
       "Bronx          28\n",
       "Chautauqua     32\n",
       "Dutchess       23\n",
       "Erie           33\n",
       "Essex          35\n",
       "Hamilton       19\n",
       "Herkimer        5\n",
       "Jefferson       9\n",
       "Monroe         24\n",
       "New York       19\n",
       "Niagara        20\n",
       "Onondaga       18\n",
       "Orange          9\n",
       "Oswego         20\n",
       "Putnam         29\n",
       "Queens         33\n",
       "Richmond       44\n",
       "Rockland       28\n",
       "Saratoga       22\n",
       "Steuben         9\n",
       "Suffolk        48\n",
       "Tompkins       11\n",
       "Wayne          16\n",
       "Westchester    39\n",
       "Name: AQI_critical, dtype: int64"
      ]
     },
     "execution_count": 10,
     "metadata": {},
     "output_type": "execute_result"
    }
   ],
   "source": [
    "#Finding number of days AQI was greater than 50\n",
    "ny.groupby('County_Name')[\"AQI_critical\"].sum()"
   ]
  },
  {
   "cell_type": "code",
   "execution_count": 14,
   "metadata": {},
   "outputs": [],
   "source": [
    "ny.groupby('County_Name')[\"AQI_critical\"].sum().plot(kind='bar')"
   ]
  },
  {
   "cell_type": "code",
   "execution_count": 15,
   "metadata": {},
   "outputs": [
    {
     "data": {
      "image/png": "[encoded data removed]",
      "text/plain": [
       "<Figure size 432x288 with 1 Axes>"
      ]
     },
     "metadata": {},
     "output_type": "display_data"
    }
   ],
   "source": [
    "numdays.plot(kind='bar',title=\"Number of Days with AQI>50 by County\")\n",
    "plt.show()"
   ]
  },
  {
   "cell_type": "code",
   "execution_count": 16,
   "metadata": {},
   "outputs": [
    {
     "data": {
      "text/plain": [
       "County_Name\n",
       "Albany          69\n",
       "Bronx          276\n",
       "Chautauqua     250\n",
       "Dutchess       274\n",
       "Erie           204\n",
       "Essex          158\n",
       "Hamilton        90\n",
       "Herkimer       236\n",
       "Jefferson       15\n",
       "Monroe         124\n",
       "New York       268\n",
       "Niagara        194\n",
       "Onondaga       275\n",
       "Orange          98\n",
       "Oswego         276\n",
       "Putnam         271\n",
       "Queens         267\n",
       "Richmond       124\n",
       "Rockland       276\n",
       "Saratoga       271\n",
       "Steuben        269\n",
       "Suffolk        234\n",
       "Tompkins       241\n",
       "Wayne          181\n",
       "Westchester    274\n",
       "Name: AQI_critical, dtype: int64"
      ]
     },
     "execution_count": 16,
     "metadata": {},
     "output_type": "execute_result"
    }
   ],
   "source": [
    "ny.groupby('County_Name')[\"AQI_critical\"].count()"
   ]
  },
  {
   "cell_type": "code",
   "execution_count": 17,
   "metadata": {},
   "outputs": [
    {
     "data": {
      "text/html": [
       "<div>\n",
       "<style scoped>\n",
       "    .dataframe tbody tr th:only-of-type {\n",
       "        vertical-align: middle;\n",
       "    }\n",
       "\n",
       "    .dataframe tbody tr th {\n",
       "        vertical-align: top;\n",
       "    }\n",
       "\n",
       "    .dataframe thead tr th {\n",
       "        text-align: left;\n",
       "    }\n",
       "\n",
       "    .dataframe thead tr:last-of-type th {\n",
       "        text-align: right;\n",
       "    }\n",
       "</style>\n",
       "<table border=\"1\" class=\"dataframe\">\n",
       "  <thead>\n",
       "    <tr>\n",
       "      <th></th>\n",
       "      <th colspan=\"3\" halign=\"left\">AQI_critical</th>\n",
       "    </tr>\n",
       "    <tr>\n",
       "      <th></th>\n",
       "      <th>sum</th>\n",
       "      <th>&lt;lambda&gt;</th>\n",
       "      <th>mean</th>\n",
       "    </tr>\n",
       "    <tr>\n",
       "      <th>County_Name</th>\n",
       "      <th></th>\n",
       "      <th></th>\n",
       "      <th></th>\n",
       "    </tr>\n",
       "  </thead>\n",
       "  <tbody>\n",
       "    <tr>\n",
       "      <th>Albany</th>\n",
       "      <td>18</td>\n",
       "      <td>0</td>\n",
       "      <td>0.260870</td>\n",
       "    </tr>\n",
       "    <tr>\n",
       "      <th>Bronx</th>\n",
       "      <td>28</td>\n",
       "      <td>0</td>\n",
       "      <td>0.101449</td>\n",
       "    </tr>\n",
       "    <tr>\n",
       "      <th>Chautauqua</th>\n",
       "      <td>32</td>\n",
       "      <td>0</td>\n",
       "      <td>0.128000</td>\n",
       "    </tr>\n",
       "    <tr>\n",
       "      <th>Dutchess</th>\n",
       "      <td>23</td>\n",
       "      <td>0</td>\n",
       "      <td>0.083942</td>\n",
       "    </tr>\n",
       "    <tr>\n",
       "      <th>Erie</th>\n",
       "      <td>33</td>\n",
       "      <td>0</td>\n",
       "      <td>0.161765</td>\n",
       "    </tr>\n",
       "    <tr>\n",
       "      <th>Essex</th>\n",
       "      <td>35</td>\n",
       "      <td>0</td>\n",
       "      <td>0.221519</td>\n",
       "    </tr>\n",
       "    <tr>\n",
       "      <th>Hamilton</th>\n",
       "      <td>19</td>\n",
       "      <td>0</td>\n",
       "      <td>0.211111</td>\n",
       "    </tr>\n",
       "    <tr>\n",
       "      <th>Herkimer</th>\n",
       "      <td>5</td>\n",
       "      <td>0</td>\n",
       "      <td>0.021186</td>\n",
       "    </tr>\n",
       "    <tr>\n",
       "      <th>Jefferson</th>\n",
       "      <td>9</td>\n",
       "      <td>0</td>\n",
       "      <td>0.600000</td>\n",
       "    </tr>\n",
       "    <tr>\n",
       "      <th>Monroe</th>\n",
       "      <td>24</td>\n",
       "      <td>0</td>\n",
       "      <td>0.193548</td>\n",
       "    </tr>\n",
       "    <tr>\n",
       "      <th>New York</th>\n",
       "      <td>19</td>\n",
       "      <td>0</td>\n",
       "      <td>0.070896</td>\n",
       "    </tr>\n",
       "    <tr>\n",
       "      <th>Niagara</th>\n",
       "      <td>20</td>\n",
       "      <td>0</td>\n",
       "      <td>0.103093</td>\n",
       "    </tr>\n",
       "    <tr>\n",
       "      <th>Onondaga</th>\n",
       "      <td>18</td>\n",
       "      <td>0</td>\n",
       "      <td>0.065455</td>\n",
       "    </tr>\n",
       "    <tr>\n",
       "      <th>Orange</th>\n",
       "      <td>9</td>\n",
       "      <td>0</td>\n",
       "      <td>0.091837</td>\n",
       "    </tr>\n",
       "    <tr>\n",
       "      <th>Oswego</th>\n",
       "      <td>20</td>\n",
       "      <td>0</td>\n",
       "      <td>0.072464</td>\n",
       "    </tr>\n",
       "    <tr>\n",
       "      <th>Putnam</th>\n",
       "      <td>29</td>\n",
       "      <td>0</td>\n",
       "      <td>0.107011</td>\n",
       "    </tr>\n",
       "    <tr>\n",
       "      <th>Queens</th>\n",
       "      <td>33</td>\n",
       "      <td>0</td>\n",
       "      <td>0.123596</td>\n",
       "    </tr>\n",
       "    <tr>\n",
       "      <th>Richmond</th>\n",
       "      <td>44</td>\n",
       "      <td>0</td>\n",
       "      <td>0.354839</td>\n",
       "    </tr>\n",
       "    <tr>\n",
       "      <th>Rockland</th>\n",
       "      <td>28</td>\n",
       "      <td>0</td>\n",
       "      <td>0.101449</td>\n",
       "    </tr>\n",
       "    <tr>\n",
       "      <th>Saratoga</th>\n",
       "      <td>22</td>\n",
       "      <td>0</td>\n",
       "      <td>0.081181</td>\n",
       "    </tr>\n",
       "    <tr>\n",
       "      <th>Steuben</th>\n",
       "      <td>9</td>\n",
       "      <td>0</td>\n",
       "      <td>0.033457</td>\n",
       "    </tr>\n",
       "    <tr>\n",
       "      <th>Suffolk</th>\n",
       "      <td>48</td>\n",
       "      <td>0</td>\n",
       "      <td>0.205128</td>\n",
       "    </tr>\n",
       "    <tr>\n",
       "      <th>Tompkins</th>\n",
       "      <td>11</td>\n",
       "      <td>0</td>\n",
       "      <td>0.045643</td>\n",
       "    </tr>\n",
       "    <tr>\n",
       "      <th>Wayne</th>\n",
       "      <td>16</td>\n",
       "      <td>0</td>\n",
       "      <td>0.088398</td>\n",
       "    </tr>\n",
       "    <tr>\n",
       "      <th>Westchester</th>\n",
       "      <td>39</td>\n",
       "      <td>0</td>\n",
       "      <td>0.142336</td>\n",
       "    </tr>\n",
       "  </tbody>\n",
       "</table>\n",
       "</div>"
      ],
      "text/plain": [
       "            AQI_critical                   \n",
       "                     sum <lambda>      mean\n",
       "County_Name                                \n",
       "Albany                18        0  0.260870\n",
       "Bronx                 28        0  0.101449\n",
       "Chautauqua            32        0  0.128000\n",
       "Dutchess              23        0  0.083942\n",
       "Erie                  33        0  0.161765\n",
       "Essex                 35        0  0.221519\n",
       "Hamilton              19        0  0.211111\n",
       "Herkimer               5        0  0.021186\n",
       "Jefferson              9        0  0.600000\n",
       "Monroe                24        0  0.193548\n",
       "New York              19        0  0.070896\n",
       "Niagara               20        0  0.103093\n",
       "Onondaga              18        0  0.065455\n",
       "Orange                 9        0  0.091837\n",
       "Oswego                20        0  0.072464\n",
       "Putnam                29        0  0.107011\n",
       "Queens                33        0  0.123596\n",
       "Richmond              44        0  0.354839\n",
       "Rockland              28        0  0.101449\n",
       "Saratoga              22        0  0.081181\n",
       "Steuben                9        0  0.033457\n",
       "Suffolk               48        0  0.205128\n",
       "Tompkins              11        0  0.045643\n",
       "Wayne                 16        0  0.088398\n",
       "Westchester           39        0  0.142336"
      ]
     },
     "execution_count": 17,
     "metadata": {},
     "output_type": "execute_result"
    }
   ],
   "source": [
    "#percentage of days when AQI > 50\n",
    "ny.groupby('County_Name').agg({'AQI_critical' :['sum',lambda x: x.sum()/ ny['AQI_critical'].sum(),'mean']})"
   ]
  },
  {
   "cell_type": "code",
   "execution_count": 18,
   "metadata": {
    "collapsed": true
   },
   "outputs": [],
   "source": [
    "dy = ny.groupby('County_Name').agg({'AQI_critical' :['sum',lambda x: x.sum()/ ny['AQI_critical'].sum(),'mean']})"
   ]
  },
  {
   "cell_type": "code",
   "execution_count": 19,
   "metadata": {},
   "outputs": [
    {
     "data": {
      "text/html": [
       "<div>\n",
       "<style scoped>\n",
       "    .dataframe tbody tr th:only-of-type {\n",
       "        vertical-align: middle;\n",
       "    }\n",
       "\n",
       "    .dataframe tbody tr th {\n",
       "        vertical-align: top;\n",
       "    }\n",
       "\n",
       "    .dataframe thead tr th {\n",
       "        text-align: left;\n",
       "    }\n",
       "\n",
       "    .dataframe thead tr:last-of-type th {\n",
       "        text-align: right;\n",
       "    }\n",
       "</style>\n",
       "<table border=\"1\" class=\"dataframe\">\n",
       "  <thead>\n",
       "    <tr>\n",
       "      <th></th>\n",
       "      <th colspan=\"3\" halign=\"left\">AQI_critical</th>\n",
       "    </tr>\n",
       "    <tr>\n",
       "      <th></th>\n",
       "      <th>sum</th>\n",
       "      <th>&lt;lambda&gt;</th>\n",
       "      <th>mean</th>\n",
       "    </tr>\n",
       "    <tr>\n",
       "      <th>County_Name</th>\n",
       "      <th></th>\n",
       "      <th></th>\n",
       "      <th></th>\n",
       "    </tr>\n",
       "  </thead>\n",
       "  <tbody>\n",
       "    <tr>\n",
       "      <th>Albany</th>\n",
       "      <td>18</td>\n",
       "      <td>0</td>\n",
       "      <td>0.260870</td>\n",
       "    </tr>\n",
       "    <tr>\n",
       "      <th>Bronx</th>\n",
       "      <td>28</td>\n",
       "      <td>0</td>\n",
       "      <td>0.101449</td>\n",
       "    </tr>\n",
       "    <tr>\n",
       "      <th>Chautauqua</th>\n",
       "      <td>32</td>\n",
       "      <td>0</td>\n",
       "      <td>0.128000</td>\n",
       "    </tr>\n",
       "    <tr>\n",
       "      <th>Dutchess</th>\n",
       "      <td>23</td>\n",
       "      <td>0</td>\n",
       "      <td>0.083942</td>\n",
       "    </tr>\n",
       "    <tr>\n",
       "      <th>Erie</th>\n",
       "      <td>33</td>\n",
       "      <td>0</td>\n",
       "      <td>0.161765</td>\n",
       "    </tr>\n",
       "  </tbody>\n",
       "</table>\n",
       "</div>"
      ],
      "text/plain": [
       "            AQI_critical                   \n",
       "                     sum <lambda>      mean\n",
       "County_Name                                \n",
       "Albany                18        0  0.260870\n",
       "Bronx                 28        0  0.101449\n",
       "Chautauqua            32        0  0.128000\n",
       "Dutchess              23        0  0.083942\n",
       "Erie                  33        0  0.161765"
      ]
     },
     "execution_count": 19,
     "metadata": {},
     "output_type": "execute_result"
    }
   ],
   "source": [
    "dy.head()"
   ]
  },
  {
   "cell_type": "code",
   "execution_count": 38,
   "metadata": {
    "collapsed": true
   },
   "outputs": [],
   "source": [
    "#Next I copy this data to a dat file in linux, and use Vim editor to generate formatted data\n",
    "# using in google maps visualization\n",
    "# Eachj county is represented using a flag, clicking on which gives an estimate of number of days \n",
    "#in a year AQI > 50 for that county"
   ]
  },
  {
   "cell_type": "code",
   "execution_count": 94,
   "metadata": {
    "collapsed": true
   },
   "outputs": [],
   "source": [
    "#There are multiple entries for a day, replace by max AQI\n",
    "#ny[ny['County_Name'] == \"Essex\"][\"Date_Local\"].value_counts()"
   ]
  },
  {
   "cell_type": "code",
   "execution_count": 95,
   "metadata": {
    "collapsed": true
   },
   "outputs": [],
   "source": [
    "#ny[ny['County_Name'] == \"Essex\"][[\"Date_Local\"],[\"AQI\"]]"
   ]
  },
  {
   "cell_type": "code",
   "execution_count": 20,
   "metadata": {
    "collapsed": true
   },
   "outputs": [],
   "source": [
    "import seaborn as sns"
   ]
  },
  {
   "cell_type": "code",
   "execution_count": 21,
   "metadata": {
    "collapsed": true
   },
   "outputs": [],
   "source": [
    "dfnew = ny.groupby('County_Name').AQI.mean()"
   ]
  },
  {
   "cell_type": "code",
   "execution_count": 22,
   "metadata": {},
   "outputs": [
    {
     "data": {
      "text/plain": [
       "County_Name\n",
       "Albany        41.028986\n",
       "Bronx         36.293478\n",
       "Chautauqua    41.092000\n",
       "Dutchess      37.000000\n",
       "Erie          40.416667\n",
       "Name: AQI, dtype: float64"
      ]
     },
     "execution_count": 22,
     "metadata": {},
     "output_type": "execute_result"
    }
   ],
   "source": [
    "dfnew.head()"
   ]
  },
  {
   "cell_type": "code",
   "execution_count": 23,
   "metadata": {},
   "outputs": [
    {
     "data": {
      "image/png": "[encoded data removed]",
      "text/plain": [
       "<Figure size 432x288 with 1 Axes>"
      ]
     },
     "metadata": {},
     "output_type": "display_data"
    }
   ],
   "source": [
    "dfnew.plot(\"bar\",title=\"Mean AQI by County\")\n",
    "plt.show()"
   ]
  },
  {
   "cell_type": "code",
   "execution_count": 26,
   "metadata": {},
   "outputs": [],
   "source": [
    "#ny.groupby('County_Name').AQI.max()"
   ]
  },
  {
   "cell_type": "code",
   "execution_count": 27,
   "metadata": {},
   "outputs": [
    {
     "data": {
      "image/png": "[encoded data removed]",
      "text/plain": [
       "<Figure size 432x288 with 1 Axes>"
      ]
     },
     "metadata": {},
     "output_type": "display_data"
    }
   ],
   "source": [
    "ny.groupby('County_Name').AQI.max().plot(\"bar\",title=\"Max AQI by County\")\n",
    "plt.show()"
   ]
  },
  {
   "cell_type": "code",
   "execution_count": null,
   "metadata": {
    "collapsed": true
   },
   "outputs": [],
   "source": []
  }
 ],
 "metadata": {
  "kernelspec": {
   "display_name": "Python 2",
   "language": "python",
   "name": "python2"
  },
  "language_info": {
   "codemirror_mode": {
    "name": "ipython",
    "version": 2
   },
   "file_extension": ".py",
   "mimetype": "text/x-python",
   "name": "python",
   "nbconvert_exporter": "python",
   "pygments_lexer": "ipython2",
   "version": "2.7.13"
  }
 },
 "nbformat": 4,
 "nbformat_minor": 2
}
